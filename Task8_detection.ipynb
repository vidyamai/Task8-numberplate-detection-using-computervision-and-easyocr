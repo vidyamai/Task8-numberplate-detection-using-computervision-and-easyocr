{
 "cells": [
  {
   "cell_type": "code",
   "execution_count": null,
   "id": "55263999",
   "metadata": {},
   "outputs": [],
   "source": [
    "import numpy as np\n",
    "import matplotlib.pyplot as plt\n",
    "%matplotlib inline\n",
    "import cv2\n",
    "import pytesseract"
   ]
  },
  {
   "cell_type": "code",
   "execution_count": null,
   "id": "317ddff5",
   "metadata": {},
   "outputs": [],
   "source": [
    "carplate_img = cv2.imread('./cars/car_image.png')\n",
    "carplate_img_rgb = cv2.cvtColor(carplate_img, cv2.COLOR_BGR2RGB)\n",
    "plt.imshow(carplate_img_rgb)"
   ]
  },
  {
   "cell_type": "code",
   "execution_count": null,
   "id": "5f9fcccb",
   "metadata": {},
   "outputs": [],
   "source": [
    "carplate_haar_cascade = cv2.CascadeClassifier('haarcascade_russian_plate_number.xml')"
   ]
  },
  {
   "cell_type": "code",
   "execution_count": null,
   "id": "ae0b4801",
   "metadata": {},
   "outputs": [],
   "source": [
    "def carplate_detect(image):\n",
    "    carplate_overlay = image.copy() \n",
    "    carplate_rects = carplate_haar_cascade.detectMultiScale(carplate_overlay,scaleFactor=1.1, minNeighbors=3)\n",
    "    for x,y,w,h in carplate_rects: \n",
    "        cv2.rectangle(carplate_overlay, (x,y), (x+w,y+h), (255,0,0), 5) \n",
    "        return carplate_overlay"
   ]
  },
  {
   "cell_type": "code",
   "execution_count": null,
   "id": "98f91583",
   "metadata": {},
   "outputs": [],
   "source": [
    "detected_carplate_img = carplate_detect(carplate_img_rgb)\n",
    "plt.imshow(detected_carplate_img)"
   ]
  },
  {
   "cell_type": "code",
   "execution_count": null,
   "id": "2cadc15e",
   "metadata": {},
   "outputs": [],
   "source": [
    "def carplate_extract(image):\n",
    "    \n",
    "    carplate_rects = carplate_haar_cascade.detectMultiScale(image,scaleFactor=1.1, minNeighbors=5)\n",
    "    for x,y,w,h in carplate_rects: \n",
    "        carplate_img = image[y+15:y+h-10 ,x+15:x+w-20]\n",
    "        return carplate_img"
   ]
  },
  {
   "cell_type": "code",
   "execution_count": null,
   "id": "00fde55c",
   "metadata": {},
   "outputs": [],
   "source": [
    "def enlarge_img(image, scale_percent):\n",
    "    width = int(image.shape[1] * scale_percent / 100)\n",
    "    height = int(image.shape[0] *scale_percent / 100)\n",
    "    dim = (width, height)\n",
    "    resized_image = cv2.resize(image, dim, interpolation = cv2.INTER_AREA)\n",
    "    return resized_image"
   ]
  },
  {
   "cell_type": "code",
   "execution_count": null,
   "id": "52e8a4a5",
   "metadata": {},
   "outputs": [],
   "source": [
    "carplate_extract_img = carplate_extract(carplate_img_rgb)\n",
    "carplate_extract_img = enlarge_img(carplate_extract_img, 150)\n",
    "plt.imshow(carplate_extract_img);"
   ]
  },
  {
   "cell_type": "code",
   "execution_count": null,
   "id": "a04652dc",
   "metadata": {},
   "outputs": [],
   "source": [
    "carplate_extract_img_gray = cv2.cvtColor(carplate_extract_img, cv2.COLOR_RGB2GRAY)\n",
    "plt.axis('off') \n",
    "plt.imshow(carplate_extract_img_gray, cmap = 'gray');\n"
   ]
  },
  {
   "cell_type": "code",
   "execution_count": null,
   "id": "499bd2c9",
   "metadata": {},
   "outputs": [],
   "source": [
    "carplate_extract_img_gray_blur = cv2.medianBlur(carplate_extract_img_gray,3) # kernel size 3\n",
    "plt.axis('off') \n",
    "plt.imshow(carplate_extract_img_gray_blur, cmap = 'gray');"
   ]
  },
  {
   "cell_type": "code",
   "execution_count": null,
   "id": "2a7e8643",
   "metadata": {},
   "outputs": [],
   "source": [
    "import easyocr"
   ]
  },
  {
   "cell_type": "code",
   "execution_count": null,
   "id": "a5803834",
   "metadata": {},
   "outputs": [],
   "source": [
    "reader=easyocr.Reader(['en'])\n",
    "result=reader.readtext(carplate_extract_img_gray_blur)\n",
    "result"
   ]
  },
  {
   "cell_type": "code",
   "execution_count": null,
   "id": "89e4f89f",
   "metadata": {},
   "outputs": [],
   "source": []
  },
  {
   "cell_type": "code",
   "execution_count": null,
   "id": "4f29a38c",
   "metadata": {},
   "outputs": [],
   "source": [
    " "
   ]
  },
  {
   "cell_type": "code",
   "execution_count": null,
   "id": "1f568f01",
   "metadata": {},
   "outputs": [],
   "source": [
    "\n"
   ]
  },
  {
   "cell_type": "code",
   "execution_count": null,
   "id": "26ac4b6c",
   "metadata": {},
   "outputs": [],
   "source": []
  },
  {
   "cell_type": "code",
   "execution_count": null,
   "id": "8ba7f58f",
   "metadata": {},
   "outputs": [],
   "source": []
  }
 ],
 "metadata": {
  "kernelspec": {
   "display_name": "Python 3",
   "language": "python",
   "name": "python3"
  },
  "language_info": {
   "codemirror_mode": {
    "name": "ipython",
    "version": 3
   },
   "file_extension": ".py",
   "mimetype": "text/x-python",
   "name": "python",
   "nbconvert_exporter": "python",
   "pygments_lexer": "ipython3",
   "version": "3.8.8"
  }
 },
 "nbformat": 4,
 "nbformat_minor": 5
}
